{
  "cells": [
    {
      "cell_type": "markdown",
      "source": [],
      "metadata": {
        "id": "BCTc-G7DVXK9"
      }
    },
    {
      "cell_type": "markdown",
      "metadata": {
        "id": "5ij8PsAa7XCB"
      },
      "source": [
        "## Notes\n",
        "We cannot use the resnet on its won to detect mulitple wind turbines in an image. We need to use a network which can detect many objects in one image. For example:\n",
        "* YOLO\n",
        "* Faster R-CNN\n",
        "* SSD\n",
        "\n",
        "After some research YOLO seems to have the best combination between speed, accuracy and ease of implementation. Speed is especially important since we want to search large areas quickly\n",
        "\n",
        "We also have a problem. We have single images with wind turbines. However, we want to be able to search images with multiple turbines. we will try 2 approaches.\n",
        "\n",
        "\n",
        "1. Use images of single turbines, output the saliency map and use it to find a bounding box. Then when training yolo, we put together images of many turbines to make the model think it is one big image with many turbines.\n",
        "2. If this does not work, we output a zoomed out image of wind turbines that will likely contain many turbines. We put a bounding box aroudn each area of high activaitons and use that as input into the YOLO net\n",
        "\n"
      ]
    },
    {
      "cell_type": "code",
      "execution_count": null,
      "metadata": {
        "id": "Am7Cv1HFQidS"
      },
      "outputs": [],
      "source": [
        "from google.colab import drive\n",
        "drive.mount('/content/drive')\n",
        "%cd /content/drive/My Drive/cs231data/\n",
        "import pandas as pd\n",
        "!pip install tqdm\n"
      ]
    },
    {
      "cell_type": "code",
      "execution_count": null,
      "metadata": {
        "id": "5OYNiMjsWliy"
      },
      "outputs": [],
      "source": [
        "import matplotlib.pyplot as plt\n",
        "import numpy as np\n",
        "import os\n",
        "import PIL\n",
        "import tensorflow as tf\n",
        "from tensorflow import keras\n",
        "from tensorflow.keras import layers\n",
        "from tensorflow.python.keras.layers import Dense, Flatten\n",
        "from tensorflow.keras.models import Sequential\n",
        "from tensorflow.keras.optimizers import Adam\n",
        "import tensorflow as tf\n",
        "import numpy as np\n",
        "from PIL import Image\n"
      ]
    },
    {
      "cell_type": "code",
      "execution_count": null,
      "metadata": {
        "id": "4cX-0m_9XENi"
      },
      "outputs": [],
      "source": [
        "#get the link to the data folder\n",
        "data_dir = '/content/drive/My Drive/cs231data/data/'"
      ]
    },
    {
      "cell_type": "markdown",
      "source": [
        "#Training the model (run this to train the classification model initially)"
      ],
      "metadata": {
        "id": "CYuOm_jcoX8-"
      }
    },
    {
      "cell_type": "code",
      "execution_count": null,
      "metadata": {
        "colab": {
          "base_uri": "https://localhost:8080/"
        },
        "id": "MbwyiB00XGU7",
        "outputId": "8d14b7a1-cafb-499c-cbeb-3ac6b3e4a425"
      },
      "outputs": [
        {
          "output_type": "stream",
          "name": "stdout",
          "text": [
            "Found 704 files belonging to 2 classes.\n",
            "Using 493 files for training.\n"
          ]
        }
      ],
      "source": [
        "#divide the data images into training and validation set, this part is for the training set\n",
        "img_height,img_width=512,512\n",
        "batch_size=32\n",
        "\n",
        "train_ds = tf.keras.preprocessing.image_dataset_from_directory(\n",
        "  directory=data_dir,\n",
        "  validation_split=0.3,\n",
        "  subset=\"training\",\n",
        "  seed=123,\n",
        "  image_size=(img_height, img_width),\n",
        "  batch_size=batch_size)"
      ]
    },
    {
      "cell_type": "code",
      "execution_count": null,
      "metadata": {
        "colab": {
          "base_uri": "https://localhost:8080/"
        },
        "id": "vsHo9WFeLVwJ",
        "outputId": "89e9f9ef-f169-4ddf-de60-6d69f6e1b218"
      },
      "outputs": [
        {
          "output_type": "stream",
          "name": "stdout",
          "text": [
            "Found 704 files belonging to 2 classes.\n",
            "Using 211 files for validation.\n",
            "['false', 'true']\n"
          ]
        }
      ],
      "source": [
        "#divide the data images into training and validation set, this part is for the validation set\n",
        "val_ds = tf.keras.preprocessing.image_dataset_from_directory(\n",
        "  data_dir,\n",
        "  validation_split=0.3,\n",
        "  subset=\"validation\",\n",
        "  seed=123,\n",
        "  image_size=(img_height, img_width),\n",
        "  batch_size=batch_size)\n",
        "\n",
        "\n",
        "class_names = train_ds.class_names\n",
        "print(class_names)\n",
        ""
      ]
    },
    {
      "cell_type": "code",
      "execution_count": null,
      "metadata": {
        "id": "5MVmQO2PLg9E"
      },
      "outputs": [],
      "source": [
        "#try a parameter tuning based on the Resnet\n",
        "resnet_model = Sequential()\n",
        "\n",
        "pretrained_model= tf.keras.applications.ResNet50(include_top=False,\n",
        "                   input_shape=(512,512,3),\n",
        "                   pooling='avg',classes=2,\n",
        "                   weights='imagenet')\n",
        "for layer in pretrained_model.layers:\n",
        "        layer.trainable=False\n",
        "\n",
        "resnet_model.add(pretrained_model)\n",
        "resnet_model.add(Flatten())\n",
        "resnet_model.add(Dense(512, activation='relu'))\n",
        "resnet_model.add(Dense(1, activation='sigmoid'))"
      ]
    },
    {
      "cell_type": "code",
      "execution_count": null,
      "metadata": {
        "colab": {
          "base_uri": "https://localhost:8080/"
        },
        "id": "XhgSttiuLkRj",
        "outputId": "7cac0ac9-9f1c-43f0-c129-5f6f5df6a9ec"
      },
      "outputs": [
        {
          "output_type": "stream",
          "name": "stdout",
          "text": [
            "Model: \"sequential_1\"\n",
            "_________________________________________________________________\n",
            " Layer (type)                Output Shape              Param #   \n",
            "=================================================================\n",
            " resnet50 (Functional)       (None, 2048)              23587712  \n",
            "                                                                 \n",
            " module_wrapper_3 (ModuleWra  (None, 2048)             0         \n",
            " pper)                                                           \n",
            "                                                                 \n",
            " module_wrapper_4 (ModuleWra  (None, 512)              1049088   \n",
            " pper)                                                           \n",
            "                                                                 \n",
            " module_wrapper_5 (ModuleWra  (None, 1)                513       \n",
            " pper)                                                           \n",
            "                                                                 \n",
            "=================================================================\n",
            "Total params: 24,637,313\n",
            "Trainable params: 1,049,601\n",
            "Non-trainable params: 23,587,712\n",
            "_________________________________________________________________\n"
          ]
        }
      ],
      "source": [
        "#Resnet parameter summary\n",
        "resnet_model.summary()"
      ]
    },
    {
      "cell_type": "code",
      "execution_count": null,
      "metadata": {
        "id": "ywB5QSmIL7dD"
      },
      "outputs": [],
      "source": [
        "# do the resnet model compile\n",
        "resnet_model.compile(optimizer=Adam(learning_rate=0.001),loss='binary_crossentropy',metrics=['accuracy'])"
      ]
    },
    {
      "cell_type": "code",
      "execution_count": null,
      "metadata": {
        "colab": {
          "base_uri": "https://localhost:8080/"
        },
        "id": "XfZFFJ_ML-GH",
        "outputId": "de731994-c34a-452e-a08e-6a7339ba358f"
      },
      "outputs": [
        {
          "output_type": "stream",
          "name": "stdout",
          "text": [
            "Epoch 1/2\n",
            "16/16 [==============================] - 30s 1s/step - loss: 0.7805 - accuracy: 0.7120 - val_loss: 0.2110 - val_accuracy: 0.9242\n",
            "Epoch 2/2\n",
            "16/16 [==============================] - 13s 752ms/step - loss: 0.1708 - accuracy: 0.9452 - val_loss: 0.1188 - val_accuracy: 0.9716\n"
          ]
        }
      ],
      "source": [
        "history = resnet_model.fit(\n",
        "  train_ds,\n",
        "  validation_data=val_ds,\n",
        "  epochs=2\n",
        ")\n",
        ""
      ]
    },
    {
      "cell_type": "code",
      "execution_count": null,
      "metadata": {
        "colab": {
          "base_uri": "https://localhost:8080/"
        },
        "id": "MM1aeBZIMAlg",
        "outputId": "12fc8b42-79b9-4f9d-9b96-87ce93bbd867"
      },
      "outputs": [
        {
          "output_type": "display_data",
          "data": {
            "text/plain": [
              "<Figure size 640x480 with 1 Axes>"
            ],
            "image/png": "[encoded data removed]"
          },
          "metadata": {}
        }
      ],
      "source": [
        "\n",
        "fig1 = plt.gcf()\n",
        "plt.plot(history.history['accuracy'])\n",
        "plt.plot(history.history['val_accuracy'])\n",
        "plt.axis(ymin=0.4,ymax=1)\n",
        "plt.grid()\n",
        "plt.title('Model Accuracy')\n",
        "plt.ylabel('Accuracy')\n",
        "plt.xlabel('Epochs')\n",
        "plt.legend(['train', 'validation'])\n",
        "plt.show()"
      ]
    },
    {
      "cell_type": "code",
      "execution_count": null,
      "metadata": {
        "colab": {
          "base_uri": "https://localhost:8080/"
        },
        "id": "nNwfBiboMFEM",
        "outputId": "327ae66f-dc09-4458-b9a6-0e3bfef23739"
      },
      "outputs": [
        {
          "output_type": "display_data",
          "data": {
            "text/plain": [
              "<Figure size 640x480 with 1 Axes>"
            ],
            "image/png": "[encoded data removed]"
          },
          "metadata": {}
        }
      ],
      "source": [
        "\n",
        "plt.plot(history.history['loss'])\n",
        "plt.plot(history.history['val_loss'])\n",
        "plt.grid()\n",
        "plt.title('Model Loss')\n",
        "plt.ylabel('Loss')\n",
        "plt.xlabel('Epochs')\n",
        "plt.legend(['train', 'validation'])\n",
        "plt.show()\n",
        ""
      ]
    },
    {
      "cell_type": "markdown",
      "metadata": {
        "id": "fdNn9sxDcL6u"
      },
      "source": [
        "# Creating saliency maps (Does not need to be run) This was Shuojia's work creating saliency maps but i have changed it in my implementation"
      ]
    },
    {
      "cell_type": "code",
      "execution_count": null,
      "metadata": {
        "colab": {
          "base_uri": "https://localhost:8080/",
          "height": 321
        },
        "id": "m50qzK5p1l2M",
        "outputId": "7988cfcc-7315-431a-9253-8fa1969bd79b"
      },
      "outputs": [
        {
          "output_type": "error",
          "ename": "FileNotFoundError",
          "evalue": "ignored",
          "traceback": [
            "\u001b[0;31m---------------------------------------------------------------------------\u001b[0m",
            "\u001b[0;31mFileNotFoundError\u001b[0m                         Traceback (most recent call last)",
            "\u001b[0;32m<ipython-input-44-222ecd166cf1>\u001b[0m in \u001b[0;36m<cell line: 1>\u001b[0;34m()\u001b[0m\n\u001b[0;32m----> 1\u001b[0;31m \u001b[0m_img\u001b[0m \u001b[0;34m=\u001b[0m \u001b[0mkeras\u001b[0m\u001b[0;34m.\u001b[0m\u001b[0mpreprocessing\u001b[0m\u001b[0;34m.\u001b[0m\u001b[0mimage\u001b[0m\u001b[0;34m.\u001b[0m\u001b[0mload_img\u001b[0m\u001b[0;34m(\u001b[0m\u001b[0;34m'/content/drive/My Drive/cs231data/data/true/3000298.jpg'\u001b[0m\u001b[0;34m,\u001b[0m\u001b[0mtarget_size\u001b[0m\u001b[0;34m=\u001b[0m\u001b[0;34m(\u001b[0m\u001b[0;36m512\u001b[0m\u001b[0;34m,\u001b[0m\u001b[0;36m512\u001b[0m\u001b[0;34m)\u001b[0m\u001b[0;34m)\u001b[0m\u001b[0;34m\u001b[0m\u001b[0;34m\u001b[0m\u001b[0m\n\u001b[0m\u001b[1;32m      2\u001b[0m \u001b[0mplt\u001b[0m\u001b[0;34m.\u001b[0m\u001b[0mimshow\u001b[0m\u001b[0;34m(\u001b[0m\u001b[0m_img\u001b[0m\u001b[0;34m)\u001b[0m\u001b[0;34m\u001b[0m\u001b[0;34m\u001b[0m\u001b[0m\n\u001b[1;32m      3\u001b[0m \u001b[0mplt\u001b[0m\u001b[0;34m.\u001b[0m\u001b[0mshow\u001b[0m\u001b[0;34m(\u001b[0m\u001b[0;34m)\u001b[0m\u001b[0;34m\u001b[0m\u001b[0;34m\u001b[0m\u001b[0m\n",
            "\u001b[0;32m/usr/local/lib/python3.10/dist-packages/keras/utils/image_utils.py\u001b[0m in \u001b[0;36mload_img\u001b[0;34m(path, grayscale, color_mode, target_size, interpolation, keep_aspect_ratio)\u001b[0m\n\u001b[1;32m    420\u001b[0m         \u001b[0;32mif\u001b[0m \u001b[0misinstance\u001b[0m\u001b[0;34m(\u001b[0m\u001b[0mpath\u001b[0m\u001b[0;34m,\u001b[0m \u001b[0mpathlib\u001b[0m\u001b[0;34m.\u001b[0m\u001b[0mPath\u001b[0m\u001b[0;34m)\u001b[0m\u001b[0;34m:\u001b[0m\u001b[0;34m\u001b[0m\u001b[0;34m\u001b[0m\u001b[0m\n\u001b[1;32m    421\u001b[0m             \u001b[0mpath\u001b[0m \u001b[0;34m=\u001b[0m \u001b[0mstr\u001b[0m\u001b[0;34m(\u001b[0m\u001b[0mpath\u001b[0m\u001b[0;34m.\u001b[0m\u001b[0mresolve\u001b[0m\u001b[0;34m(\u001b[0m\u001b[0;34m)\u001b[0m\u001b[0;34m)\u001b[0m\u001b[0;34m\u001b[0m\u001b[0;34m\u001b[0m\u001b[0m\n\u001b[0;32m--> 422\u001b[0;31m         \u001b[0;32mwith\u001b[0m \u001b[0mopen\u001b[0m\u001b[0;34m(\u001b[0m\u001b[0mpath\u001b[0m\u001b[0;34m,\u001b[0m \u001b[0;34m\"rb\"\u001b[0m\u001b[0;34m)\u001b[0m \u001b[0;32mas\u001b[0m \u001b[0mf\u001b[0m\u001b[0;34m:\u001b[0m\u001b[0;34m\u001b[0m\u001b[0;34m\u001b[0m\u001b[0m\n\u001b[0m\u001b[1;32m    423\u001b[0m             \u001b[0mimg\u001b[0m \u001b[0;34m=\u001b[0m \u001b[0mpil_image\u001b[0m\u001b[0;34m.\u001b[0m\u001b[0mopen\u001b[0m\u001b[0;34m(\u001b[0m\u001b[0mio\u001b[0m\u001b[0;34m.\u001b[0m\u001b[0mBytesIO\u001b[0m\u001b[0;34m(\u001b[0m\u001b[0mf\u001b[0m\u001b[0;34m.\u001b[0m\u001b[0mread\u001b[0m\u001b[0;34m(\u001b[0m\u001b[0;34m)\u001b[0m\u001b[0;34m)\u001b[0m\u001b[0;34m)\u001b[0m\u001b[0;34m\u001b[0m\u001b[0;34m\u001b[0m\u001b[0m\n\u001b[1;32m    424\u001b[0m     \u001b[0;32melse\u001b[0m\u001b[0;34m:\u001b[0m\u001b[0;34m\u001b[0m\u001b[0;34m\u001b[0m\u001b[0m\n",
            "\u001b[0;31mFileNotFoundError\u001b[0m: [Errno 2] No such file or directory: '/content/drive/My Drive/cs231data/data/true/3000298.jpg'"
          ]
        }
      ],
      "source": [
        "_img = keras.preprocessing.image.load_img('/content/drive/My Drive/cs231data/data/true/3007073.jpg',target_size=(512,512))\n",
        "plt.imshow(_img)\n",
        "plt.show()"
      ]
    },
    {
      "cell_type": "code",
      "execution_count": null,
      "metadata": {
        "id": "fRUGG1T5eCKn"
      },
      "outputs": [],
      "source": [
        "# Function that saves saliency map to drive without displaying\n",
        "\n",
        "from tqdm import tqdm\n",
        "\n",
        "def saliencymap(data, a):\n",
        "    _img = keras.preprocessing.image.load_img(data, target_size=(512, 512))\n",
        "    img = keras.preprocessing.image.img_to_array(_img)\n",
        "    img = img.reshape((1, *img.shape))\n",
        "    y_pred = resnet_model.predict(img)\n",
        "    layers = [layer.output for layer in resnet_model.layers]\n",
        "    images = tf.Variable(img, dtype=float)\n",
        "\n",
        "    with tf.GradientTape() as tape:\n",
        "        pred = resnet_model(images, training=False)\n",
        "        class_idxs_sorted = np.argsort(pred.numpy().flatten())[::-1]\n",
        "        loss = pred[0][class_idxs_sorted[0]]\n",
        "\n",
        "    grads = tape.gradient(loss, images)\n",
        "    dgrad_abs = tf.math.abs(grads)\n",
        "    dgrad_max_ = np.max(dgrad_abs, axis=3)[0]\n",
        "    arr_min, arr_max = np.min(dgrad_max_), np.max(dgrad_max_)\n",
        "    grad_eval = (dgrad_max_ - arr_min) / (arr_max - arr_min + 1e-18)\n",
        "\n",
        "    # Strip the extension from the filename before saving\n",
        "    a = os.path.splitext(a)[0]\n",
        "    fig, ax = plt.subplots()\n",
        "    plt.imshow(grad_eval, cmap=\"jet\", alpha=0.8)  # Only visualize the gradient map\n",
        "    fig.savefig('/content/drive/My Drive/cs231data/saliency_map_v2/' + a + '.jpg')\n",
        "    plt.close(fig)\n"
      ]
    },
    {
      "cell_type": "code",
      "execution_count": null,
      "metadata": {
        "id": "VELnobeGgmAX"
      },
      "outputs": [],
      "source": [
        "# Displays the saliency map images but does not save them\n",
        "\n",
        "\n",
        "def com_saliencymap(data):\n",
        "  _img = keras.preprocessing.image.load_img(data,target_size=(512,512))\n",
        "  img = keras.preprocessing.image.img_to_array(_img)\n",
        "  img = img.reshape((1, *img.shape))\n",
        "  y_pred = resnet_model.predict(img)\n",
        "  layers = [layer.output for layer in resnet_model.layers]\n",
        "  images = tf.Variable(img, dtype=float)\n",
        "\n",
        "  with tf.GradientTape() as tape:\n",
        "      pred = resnet_model(images, training=False)\n",
        "      class_idxs_sorted = np.argsort(pred.numpy().flatten())[::-1]\n",
        "      loss = pred[0][class_idxs_sorted[0]]\n",
        "\n",
        "  grads = tape.gradient(loss, images)\n",
        "  dgrad_abs = tf.math.abs(grads)\n",
        "  dgrad_max_ = np.max(dgrad_abs, axis=3)[0]\n",
        "  arr_min, arr_max  = np.min(dgrad_max_), np.max(dgrad_max_)\n",
        "  grad_eval = (dgrad_max_ - arr_min) / (arr_max - arr_min + 1e-18)\n",
        "\n",
        "  fig, axes = plt.subplots(1,2,figsize=(14,5))\n",
        "  axes[0].imshow(_img)\n",
        "  i = axes[1].imshow(grad_eval,cmap=\"jet\",alpha=0.8)\n",
        "  fig.colorbar(i)"
      ]
    },
    {
      "cell_type": "code",
      "execution_count": null,
      "metadata": {
        "id": "z6bhEhmTLybQ"
      },
      "outputs": [],
      "source": [
        "import os\n",
        "def get_image_names(folder_path):\n",
        "    image_names = []\n",
        "    for filename in os.listdir(folder_path):\n",
        "        if filename.endswith((\".jpg\", \".jpeg\", \".png\", \".gif\")):\n",
        "            image_names.append(filename)\n",
        "    return image_names\n",
        "image_list = get_image_names(data_dir+'true/')"
      ]
    },
    {
      "cell_type": "code",
      "execution_count": null,
      "metadata": {
        "id": "3sJPGBiCQmP4"
      },
      "outputs": [],
      "source": [
        "image_list"
      ]
    },
    {
      "cell_type": "code",
      "execution_count": null,
      "metadata": {
        "id": "CahJvkCwv_5M"
      },
      "outputs": [],
      "source": [
        "#do a check on the first 5 maps\n",
        "for name in image_list[:5]:\n",
        "  com_saliencymap(data_dir+'true/'+name)"
      ]
    },
    {
      "cell_type": "code",
      "execution_count": null,
      "metadata": {
        "id": "L8ALTnVKWzcl"
      },
      "outputs": [],
      "source": [
        "for name in image_list[:10]:\n",
        "   saliencymap(data_dir+'true/'+name,name)"
      ]
    },
    {
      "cell_type": "markdown",
      "metadata": {
        "id": "7LI0E_Zmi2yM"
      },
      "source": [
        "# Creating saliency map and bounding boxes"
      ]
    },
    {
      "cell_type": "code",
      "source": [
        "# this is to see how many images we are working with in the true folder\n",
        "import os\n",
        "def get_image_names(folder_path):\n",
        "    image_names = []\n",
        "    for filename in os.listdir(folder_path):\n",
        "        if filename.endswith((\".jpg\", \".jpeg\", \".png\", \".gif\")):\n",
        "            image_names.append(filename)\n",
        "    return image_names\n",
        "image_list = get_image_names(data_dir+'true/')\n",
        "image_list\n",
        "print(len(image_list))"
      ],
      "metadata": {
        "id": "cSNXnwF4o9uX"
      },
      "execution_count": null,
      "outputs": []
    },
    {
      "cell_type": "code",
      "execution_count": null,
      "metadata": {
        "id": "pYVsBwdUi2gS"
      },
      "outputs": [],
      "source": [
        "# new function to create saliency map\n",
        "# this is the function that should be altered if we want to create a salency map\n",
        "# ...on the output features\n",
        "def create_saliency_map(data, model):\n",
        "    _img = keras.preprocessing.image.load_img(data, target_size=(512,512))\n",
        "    img = keras.preprocessing.image.img_to_array(_img)\n",
        "    img = img.reshape((1, *img.shape))\n",
        "    y_pred = model.predict(img)\n",
        "    images = tf.Variable(img, dtype=float)\n",
        "\n",
        "    with tf.GradientTape() as tape:\n",
        "        pred = model(images, training=False)\n",
        "        class_idxs_sorted = np.argsort(pred.numpy().flatten())[::-1]\n",
        "        loss = pred[0][class_idxs_sorted[0]]\n",
        "\n",
        "    grads = tape.gradient(loss, images)\n",
        "    dgrad_abs = tf.math.abs(grads)\n",
        "    dgrad_max_ = np.max(dgrad_abs, axis=3)[0]\n",
        "    arr_min, arr_max = np.min(dgrad_max_), np.max(dgrad_max_)\n",
        "    grad_eval = (dgrad_max_ - arr_min) / (arr_max - arr_min + 1e-18)\n",
        "\n",
        "    return grad_eval\n"
      ]
    },
    {
      "cell_type": "code",
      "execution_count": null,
      "metadata": {
        "id": "mK2He9c0mWdu"
      },
      "outputs": [],
      "source": [
        "import cv2\n",
        "import numpy as np\n",
        "import matplotlib.pyplot as plt\n",
        "import os\n",
        "from tqdm import tqdm\n",
        "\n",
        "# these variables are important to understand!!\n",
        "# Configuration variables\n",
        "NUM_IMAGES = 50  # Number of images to process\n",
        "THRESHOLD_RATIO = 0.5  # Ratio for calculating the threshold for the saliency map\n",
        "DISPLAY_MODE = True  # Set to True for displaying results below, False for not displaying any results but saving a file of the bounding boxes in BOUNDING_BOXES_DIR\n",
        "IMAGE_DIR = '/content/drive/My Drive/cs231data/data/true'\n",
        "BOUNDING_BOXES_DIR = '/content/drive/My Drive/cs231data/bounding_boxes_v1'\n",
        "\n",
        "def load_image(path):\n",
        "    # Load the image or saliency map\n",
        "    return cv2.imread(path, cv2.IMREAD_GRAYSCALE)\n",
        "\n",
        "def calculate_threshold(saliency_map, ratio=0.5):\n",
        "    # Calculate the maximum activation value in the saliency map\n",
        "    max_activation = np.max(saliency_map)\n",
        "\n",
        "    # Calculate the threshold value to select a percentage of the maximum activation\n",
        "    return ratio * max_activation\n",
        "\n",
        "\n",
        "def draw_bboxes(image, bounding_boxes, saliency_map_resized):\n",
        "    # Create a copy of the image to draw the bounding boxes on\n",
        "    image_with_boxes = image.copy()\n",
        "    saliency_map_with_boxes = saliency_map_resized.copy()\n",
        "\n",
        "    for bbox in bounding_boxes:\n",
        "        x1, y1, x2, y2 = bbox\n",
        "\n",
        "        # Only draw the bounding boxes if the values are not infinite\n",
        "        if not np.isinf([x1, y1, x2, y2]).any():\n",
        "            cv2.rectangle(image_with_boxes, (x1, y1), (x2, y2), (0, 255, 0), 2)  # Draw the bounding box on the image\n",
        "            cv2.rectangle(saliency_map_with_boxes, (x1, y1), (x2, y2), (0, 255, 0), 2)  # Draw the bounding box on the saliency map\n",
        "\n",
        "    return image_with_boxes, saliency_map_with_boxes\n",
        "\n",
        "\n",
        "    return image_with_boxes, saliency_map_with_boxes\n",
        "\n",
        "def generate_bboxes(saliency_map, threshold=0.5):\n",
        "    # Normalize the saliency map\n",
        "    normalized_saliency_map = (saliency_map - np.min(saliency_map)) / (np.max(saliency_map) - np.min(saliency_map))\n",
        "\n",
        "    # Convert to 8-bit [0, 255]\n",
        "    normalized_saliency_map_255 = (normalized_saliency_map * 255).astype(np.uint8)\n",
        "\n",
        "    # Convert to binary map\n",
        "    _, binary_map = cv2.threshold(normalized_saliency_map_255, threshold * 255, 255, cv2.THRESH_BINARY)\n",
        "\n",
        "    # Perform dilation to merge nearby blobs\n",
        "    kernel = np.ones((5, 5), np.uint8)\n",
        "    binary_map = cv2.dilate(binary_map, kernel, iterations=1)\n",
        "\n",
        "    # Find contours in the binary map\n",
        "    contours, _ = cv2.findContours(binary_map, cv2.RETR_EXTERNAL, cv2.CHAIN_APPROX_SIMPLE)\n",
        "\n",
        "    # Initialize min and max coordinates\n",
        "    min_x, min_y, max_x, max_y = np.inf, np.inf, -np.inf, -np.inf\n",
        "    bounding_boxes = []\n",
        "\n",
        "    for contour in contours:\n",
        "        x, y, w, h = cv2.boundingRect(contour)\n",
        "        min_x, min_y = min(min_x, x), min(min_y, y)\n",
        "        max_x, max_y = max(max_x, x + w), max(max_y, y + h)\n",
        "        bounding_boxes.append((x, y, x + w, y + h))\n",
        "\n",
        "    # Return the list of bounding boxes\n",
        "    return bounding_boxes\n",
        "\n",
        "def display_results(image_with_boxes, saliency_map_with_boxes):\n",
        "    # Convert the saliency map to an appropriate data type and range for display\n",
        "    saliency_map_normalized = saliency_map_with_boxes.astype(np.float32) / 255.0\n",
        "    saliency_map_color = cv2.cvtColor(saliency_map_normalized, cv2.COLOR_GRAY2BGR)\n",
        "\n",
        "    # Set transparency (0.5) for the saliency map\n",
        "    saliency_map_with_alpha = np.concatenate((saliency_map_color, 0.5 * np.ones_like(saliency_map_color[..., :1])), axis=-1)\n",
        "\n",
        "    # Create a figure with two subplots\n",
        "    fig, axs = plt.subplots(1, 2, figsize=(10, 5))\n",
        "\n",
        "    # Display the image with bounding box in the first subplot\n",
        "    axs[0].imshow(cv2.cvtColor(image_with_boxes, cv2.COLOR_BGR2RGB))\n",
        "    axs[0].axis('off')\n",
        "    axs[0].set_title('Image with Bounding Box')\n",
        "\n",
        "    # Display the saliency map with bounding box in the second subplot\n",
        "    axs[1].imshow(saliency_map_with_alpha)\n",
        "    axs[1].axis('off')\n",
        "    axs[1].set_title('Saliency Map with Bounding Box')\n",
        "\n",
        "    # Adjust the spacing between subplots\n",
        "    plt.tight_layout()\n",
        "\n",
        "    # Show the figure\n",
        "    plt.show()\n",
        "\n",
        "def main(image_list, image_dir, model, mode='display', bounding_boxes_dir=None):\n",
        "    # Use tqdm for creating a progress bar\n",
        "    all_bounding_boxes = []\n",
        "\n",
        "    for i in tqdm(range(NUM_IMAGES)):\n",
        "        image_name = image_list[i]\n",
        "\n",
        "        # Construct the file path for the image\n",
        "        image_path = os.path.join(image_dir, image_name)\n",
        "\n",
        "        # Load the image\n",
        "        image = load_image(image_path)\n",
        "\n",
        "        if image is None:\n",
        "            print(f\"Failed to load the image. Check the path: {image_path}\")\n",
        "            continue\n",
        "\n",
        "        # Generate the saliency map for the image\n",
        "        saliency_map = create_saliency_map(image_path, model)\n",
        "\n",
        "        # Normalize the saliency map\n",
        "        normalized_saliency_map = (saliency_map - np.min(saliency_map)) / (np.max(saliency_map) - np.min(saliency_map))\n",
        "\n",
        "        # Calculate the threshold for activations\n",
        "        threshold = calculate_threshold(normalized_saliency_map)\n",
        "\n",
        "        # Generate bounding boxes based on saliency map\n",
        "        bounding_boxes = generate_bboxes(normalized_saliency_map, threshold)\n",
        "\n",
        "        # Only write to the bounding box file if there are bounding boxes\n",
        "        if len(bounding_boxes) > 0 and mode == 'save':\n",
        "            all_bounding_boxes.extend([(image_name,) + bbox for bbox in bounding_boxes])\n",
        "\n",
        "        # Draw bounding boxes on the original image and the saliency map\n",
        "        image_with_boxes, saliency_map_with_boxes = draw_bboxes(image, bounding_boxes, normalized_saliency_map)\n",
        "\n",
        "        if mode == 'display':\n",
        "            # Display results\n",
        "            display_results(image_with_boxes, saliency_map_with_boxes)\n",
        "\n",
        "    if mode == 'save':\n",
        "        if bounding_boxes_dir is None:\n",
        "            raise ValueError(\"bounding_boxes_dir must be specified in 'save' mode\")\n",
        "\n",
        "        # Save all bounding box coordinates to a single file\n",
        "        with open(os.path.join(bounding_boxes_dir, 'all_bounding_boxes.txt'), 'w') as f:\n",
        "            for bbox in all_bounding_boxes:\n",
        "                f.write(f'{bbox[0]} {bbox[1]} {bbox[2]} {bbox[3]} {bbox[4]}\\n')\n",
        "\n",
        "\n",
        "\n",
        "# Call the main function\n",
        "main(image_list, IMAGE_DIR, resnet_model, mode='display' if DISPLAY_MODE else 'save', bounding_boxes_dir=BOUNDING_BOXES_DIR)\n"
      ]
    }
  ],
  "metadata": {
    "accelerator": "GPU",
    "colab": {
      "provenance": [],
      "collapsed_sections": [
        "CYuOm_jcoX8-",
        "fdNn9sxDcL6u"
      ],
      "gpuType": "T4"
    },
    "kernelspec": {
      "display_name": "Python 3",
      "name": "python3"
    },
    "language_info": {
      "name": "python"
    }
  },
  "nbformat": 4,
  "nbformat_minor": 0
}